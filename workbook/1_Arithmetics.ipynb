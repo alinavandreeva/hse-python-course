{
  "nbformat": 4,
  "nbformat_minor": 0,
  "metadata": {
    "colab": {
      "provenance": [],
      "include_colab_link": true
    },
    "kernelspec": {
      "name": "python3",
      "display_name": "Python 3"
    },
    "language_info": {
      "name": "python"
    }
  },
  "cells": [
    {
      "cell_type": "markdown",
      "metadata": {
        "id": "view-in-github",
        "colab_type": "text"
      },
      "source": [
        "<a href=\"https://colab.research.google.com/github/alinavandreeva/hse-python-course/blob/main/workbook/1_Arithmetics.ipynb\" target=\"_parent\"><img src=\"https://colab.research.google.com/assets/colab-badge.svg\" alt=\"Open In Colab\"/></a>"
      ]
    },
    {
      "cell_type": "markdown",
      "source": [
        "(c) В.И. Фирсанова | 2024"
      ],
      "metadata": {
        "id": "LKJXB1rGMi22"
      }
    },
    {
      "cell_type": "markdown",
      "source": [
        "# Арифметические операции в Python\n",
        "\n",
        "1. **Сложение (+)**:\n",
        "   - `3 + 5` возвращает `8`\n",
        "\n",
        "2. **Вычитание (-)**:\n",
        "   - `10 - 4` возвращает `6`\n",
        "\n",
        "3. **Умножение (*)**:\n",
        "   - `2 * 6` возвращает `12`\n",
        "\n",
        "4. **Деление (/)**:\n",
        "   - `15 / 3` возвращает `5.0` (число с плавающей точкой)\n",
        "\n",
        "5. **Целочисленное деление (//)**:\n",
        "   - `15 // 4` возвращает `3` (целое число)\n",
        "\n",
        "6. **Остаток от деления (%)**:\n",
        "   - `15 % 4` возвращает `3`\n",
        "\n",
        "7. **Возведение в степень (**** **либо (pow())**:\n",
        "   - `2 ** 3` или `pow(2, 3)` возвращает `8`\n",
        "\n",
        "8. **Модуль (abs())**:\n",
        "   - `abs(-10)` возвращает `10`\n",
        "\n",
        "10. **Округление (round())**:\n",
        "    - `round(4.6)` возвращает `5`\n",
        "    - `round(4.65, 1)` возвращает `4.7` (1 знак после запятой)\n",
        "\n",
        "**Порядок арифметических операций в Python:**\n",
        "\n",
        "1. Скобки\n",
        "2. Возведение в степень, корень числа\n",
        "3. Умножение и деление слева-направо\n",
        "4. Сложение и вычитание слева-направо"
      ],
      "metadata": {
        "id": "fQaRb4FdiZXL"
      }
    },
    {
      "cell_type": "code",
      "source": [
        "num1 = 10\n",
        "num2 = 20\n",
        "\n",
        "num1 + num2\n",
        "\n",
        "result = num1+num2\n",
        "\n",
        "print(result)"
      ],
      "metadata": {
        "id": "l6Dwn2cDj_N9",
        "outputId": "9ad0d99a-09f7-42ca-ecd0-787b5e369086",
        "colab": {
          "base_uri": "https://localhost:8080/"
        }
      },
      "execution_count": 2,
      "outputs": [
        {
          "output_type": "stream",
          "name": "stdout",
          "text": [
            "30\n"
          ]
        }
      ]
    },
    {
      "cell_type": "code",
      "source": [
        "num1 = 10\n",
        "num2 = 20\n",
        "\n",
        "num2 - num1\n",
        "\n",
        "result = num2-num1\n",
        "\n",
        "print(result)"
      ],
      "metadata": {
        "id": "0eRzO5hMkdIc",
        "outputId": "f89709b3-9690-43d5-9e6a-9dbdb09fcf05",
        "colab": {
          "base_uri": "https://localhost:8080/"
        }
      },
      "execution_count": 3,
      "outputs": [
        {
          "output_type": "stream",
          "name": "stdout",
          "text": [
            "10\n"
          ]
        }
      ]
    },
    {
      "cell_type": "code",
      "source": [
        "num1 = 10\n",
        "num2 = 20\n",
        "\n",
        "num1 * num2\n",
        "\n",
        "result = num1*num2\n",
        "\n",
        "print(result)"
      ],
      "metadata": {
        "id": "ZyueEtLqkinp",
        "outputId": "7ba89e3c-0e7b-4b7e-b24b-680469aeb2c9",
        "colab": {
          "base_uri": "https://localhost:8080/"
        }
      },
      "execution_count": 4,
      "outputs": [
        {
          "output_type": "stream",
          "name": "stdout",
          "text": [
            "200\n"
          ]
        }
      ]
    },
    {
      "cell_type": "code",
      "source": [
        "num1 = 10\n",
        "num2 = 20\n",
        "\n",
        "num2 / num1\n",
        "\n",
        "result = num2/num1\n",
        "\n",
        "print(result)"
      ],
      "metadata": {
        "id": "6s-US4aVkj93",
        "outputId": "e22d95b5-2f9e-42d2-e0b0-e556480650eb",
        "colab": {
          "base_uri": "https://localhost:8080/"
        }
      },
      "execution_count": 5,
      "outputs": [
        {
          "output_type": "stream",
          "name": "stdout",
          "text": [
            "2.0\n"
          ]
        }
      ]
    },
    {
      "cell_type": "code",
      "source": [
        "str1 = \"Hello, \"\n",
        "str2 = \"World!\"\n",
        "\n",
        "str1 + str2\n",
        "\n",
        "result = str1+str2\n",
        "\n",
        "print(result)"
      ],
      "metadata": {
        "id": "53S7Bayskqiv",
        "outputId": "a655641b-ba22-4b39-ad7e-e86c57e92280",
        "colab": {
          "base_uri": "https://localhost:8080/"
        }
      },
      "execution_count": 6,
      "outputs": [
        {
          "output_type": "stream",
          "name": "stdout",
          "text": [
            "Hello, World!\n"
          ]
        }
      ]
    },
    {
      "cell_type": "code",
      "source": [
        "str1 = \"Hello, \"\n",
        "num1 = 10\n",
        "\n",
        "str1 + num1\n",
        "\n",
        "result = str1+num1\n",
        "\n",
        "print(result)"
      ],
      "metadata": {
        "id": "IWmTrByfk0Ok",
        "outputId": "dd9fdfc4-cb6e-418d-a76f-739efcf46bd7",
        "colab": {
          "base_uri": "https://localhost:8080/",
          "height": 219
        }
      },
      "execution_count": 7,
      "outputs": [
        {
          "output_type": "error",
          "ename": "TypeError",
          "evalue": "can only concatenate str (not \"int\") to str",
          "traceback": [
            "\u001b[0;31m---------------------------------------------------------------------------\u001b[0m",
            "\u001b[0;31mTypeError\u001b[0m                                 Traceback (most recent call last)",
            "\u001b[0;32m<ipython-input-7-12eabe36448c>\u001b[0m in \u001b[0;36m<cell line: 4>\u001b[0;34m()\u001b[0m\n\u001b[1;32m      2\u001b[0m \u001b[0mnum1\u001b[0m \u001b[0;34m=\u001b[0m \u001b[0;36m10\u001b[0m\u001b[0;34m\u001b[0m\u001b[0;34m\u001b[0m\u001b[0m\n\u001b[1;32m      3\u001b[0m \u001b[0;34m\u001b[0m\u001b[0m\n\u001b[0;32m----> 4\u001b[0;31m \u001b[0mstr1\u001b[0m \u001b[0;34m+\u001b[0m \u001b[0mnum1\u001b[0m\u001b[0;34m\u001b[0m\u001b[0;34m\u001b[0m\u001b[0m\n\u001b[0m\u001b[1;32m      5\u001b[0m \u001b[0;34m\u001b[0m\u001b[0m\n\u001b[1;32m      6\u001b[0m \u001b[0mresult\u001b[0m \u001b[0;34m=\u001b[0m \u001b[0mstr1\u001b[0m\u001b[0;34m+\u001b[0m\u001b[0mnum1\u001b[0m\u001b[0;34m\u001b[0m\u001b[0;34m\u001b[0m\u001b[0m\n",
            "\u001b[0;31mTypeError\u001b[0m: can only concatenate str (not \"int\") to str"
          ]
        }
      ]
    },
    {
      "cell_type": "code",
      "source": [
        "str1 = \"Hello, \"\n",
        "num1 = \"10\"\n",
        "\n",
        "str1 + num1\n",
        "\n",
        "result = str1+num1\n",
        "\n",
        "print(result)"
      ],
      "metadata": {
        "id": "MTUyA3jUlJBL",
        "outputId": "90efbe6b-622b-4f35-adba-a103c9e21820",
        "colab": {
          "base_uri": "https://localhost:8080/"
        }
      },
      "execution_count": 8,
      "outputs": [
        {
          "output_type": "stream",
          "name": "stdout",
          "text": [
            "Hello, 10\n"
          ]
        }
      ]
    },
    {
      "cell_type": "markdown",
      "source": [
        "Сложение двух строк называется **конкатенацией**. В Python можно конкатенировать только 2 одинаковых типа данных, например, числа и числа, строки и строки, матрицы и матрицы и т.д."
      ],
      "metadata": {
        "id": "pQk4nII6lYHC"
      }
    },
    {
      "cell_type": "code",
      "source": [
        "num1 = 10\n",
        "num2 = 20\n",
        "\n",
        "num1 + num2\n",
        "\n",
        "num1 += num2\n",
        "\n",
        "result = num1+num2\n",
        "\n",
        "print(result)"
      ],
      "metadata": {
        "id": "xbPvx4Dslnhp",
        "outputId": "b4fddd52-0a25-4463-eca9-c79e1ed5242f",
        "colab": {
          "base_uri": "https://localhost:8080/"
        }
      },
      "execution_count": 11,
      "outputs": [
        {
          "output_type": "stream",
          "name": "stdout",
          "text": [
            "50\n"
          ]
        }
      ]
    },
    {
      "cell_type": "markdown",
      "source": [
        "Операторы `+=`, `-=`, `*=`, `/=` изменяют значение текущей переменной путем сложения, вычитания, умножения и т.д. другой переменной. Они делают код **питоничным**, ускоряя как скорость написания кода, так и скорость его выполнения.\n",
        "\n",
        "Почему ускоряется скорость выполнения кода?\n",
        "\n",
        "Сценарий 1\n",
        "\n",
        "```\n",
        "a = 1 # занимаем ячейку памяти компьютера и даем ей идентификатор a\n",
        "b = 1 # занимаем ячейку памяти компьютера и даем ей идентификатор b\n",
        "\n",
        "c = a + b # занимаем ячейку памяти компьютера и даем ей идентификатор c\n",
        "```\n",
        "Сценарий 2\n",
        "```\n",
        "a = 1 # занимаем ячейку памяти компьютера и даем ей идентификатор a\n",
        "b = 1 # занимаем ячейку памяти компьютера и даем ей идентификатор b\n",
        "\n",
        "a += b # обновляем информацию в ячейке a\n",
        "```\n",
        "\n",
        "Результат тот же, но мы не заполняем место в памяти компьютера ячейкой `c`.\n",
        "А теперь представь, что мы работаем с большими данными. Как много памяти мы сохраним и насколько быстрее будет работать такой код!\n",
        "\n",
        "Так что питоничность - это то, к чему мы стремимся, как питонисты :)"
      ],
      "metadata": {
        "id": "EQdzTKaMlvyB"
      }
    },
    {
      "cell_type": "code",
      "source": [
        "num1 = 10\n",
        "num2 = 20\n",
        "\n",
        "num1 -=num2\n",
        "\n",
        "num2 - num1\n",
        "\n",
        "result = num2-num1\n",
        "\n",
        "print(result)"
      ],
      "metadata": {
        "id": "C32ozj4SnYH1",
        "outputId": "c4608f86-c590-4e4a-98eb-10d6448d22e3",
        "colab": {
          "base_uri": "https://localhost:8080/"
        }
      },
      "execution_count": 13,
      "outputs": [
        {
          "output_type": "stream",
          "name": "stdout",
          "text": [
            "30\n"
          ]
        }
      ]
    },
    {
      "cell_type": "code",
      "source": [
        "num1 = 10\n",
        "num2 = 20\n",
        "\n",
        "num1 *= num2\n",
        "\n",
        "num1 * num2\n",
        "\n",
        "result = num1*num2\n",
        "\n",
        "print(result)"
      ],
      "metadata": {
        "id": "yF5z2RYgnh0O",
        "outputId": "57f5dd2b-d0cd-4483-fcd6-220841dcfe92",
        "colab": {
          "base_uri": "https://localhost:8080/"
        }
      },
      "execution_count": 14,
      "outputs": [
        {
          "output_type": "stream",
          "name": "stdout",
          "text": [
            "4000\n"
          ]
        }
      ]
    },
    {
      "cell_type": "code",
      "source": [
        "num1 = 10\n",
        "num2 = 20\n",
        "\n",
        "num1 /= num2\n",
        "\n",
        "num2 / num1\n",
        "\n",
        "result = num2/num1\n",
        "\n",
        "print(result)"
      ],
      "metadata": {
        "id": "i0nBdi3ankz0",
        "outputId": "a5756ced-d559-4b74-841c-19a7a0bab20f",
        "colab": {
          "base_uri": "https://localhost:8080/"
        }
      },
      "execution_count": 15,
      "outputs": [
        {
          "output_type": "stream",
          "name": "stdout",
          "text": [
            "40.0\n"
          ]
        }
      ]
    }
  ]
}