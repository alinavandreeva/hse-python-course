{
  "nbformat": 4,
  "nbformat_minor": 0,
  "metadata": {
    "colab": {
      "provenance": [],
      "collapsed_sections": [
        "xjBo_ebS9BpG",
        "f52IBxo_3QMO",
        "JUJsTkMH4Gbi",
        "ty-_ARJv4hjz",
        "ibVDS0oG6Kab",
        "Byz1IibM7s8y",
        "pmEBQyIh9Ist",
        "NdG5Y_Cg9Isv",
        "Tf1rQpab9Isx"
      ],
      "include_colab_link": true
    },
    "kernelspec": {
      "name": "python3",
      "display_name": "Python 3"
    },
    "language_info": {
      "name": "python"
    }
  },
  "cells": [
    {
      "cell_type": "markdown",
      "metadata": {
        "id": "view-in-github",
        "colab_type": "text"
      },
      "source": [
        "<a href=\"https://colab.research.google.com/github/alinavandreeva/hse-python-course/blob/main/HW4_if.ipynb\" target=\"_parent\"><img src=\"https://colab.research.google.com/assets/colab-badge.svg\" alt=\"Open In Colab\"/></a>"
      ]
    },
    {
      "cell_type": "markdown",
      "source": [
        "# Блок 1: задачи на условия"
      ],
      "metadata": {
        "id": "xjBo_ebS9BpG"
      }
    },
    {
      "cell_type": "markdown",
      "source": [
        "## Задание 1\n",
        "\n",
        "### Напишите программу для проверки пароля пользователя\n",
        "\n",
        "**Образец работы программы:**\n",
        "\n",
        "```\n",
        "Введите пароль: 123\n",
        "Пароль неверный\n",
        "Введите пароль: 321\n",
        "Пароль верный\n",
        "```\n",
        "\n",
        "**Алгоритм:**\n",
        "\n",
        "1. Создайте переменную, в которой хранится верный пароль\n",
        "2. Запросите у пользователя пароль\n",
        "3. Если пароль верный, выведите \"Пароль верный\"\n",
        "4. Иначе, выведите \"Пароль неверный\""
      ],
      "metadata": {
        "id": "f52IBxo_3QMO"
      }
    },
    {
      "cell_type": "code",
      "execution_count": 2,
      "metadata": {
        "id": "XDk2pBii3Nvo",
        "outputId": "6b3c3537-238d-488f-9d37-f95f6ebe2614",
        "colab": {
          "base_uri": "https://localhost:8080/"
        }
      },
      "outputs": [
        {
          "output_type": "stream",
          "name": "stdout",
          "text": [
            "Введите пароль:123\n",
            "Пароль верный\n"
          ]
        }
      ],
      "source": [
        "### ваш код здесь ###\n",
        "password = int(input('Введите пароль:'))\n",
        "\n",
        "if password == 123:\n",
        "  print(f'Пароль верный')\n",
        "else:\n",
        "  print(f'Пароль неверный')"
      ]
    },
    {
      "cell_type": "markdown",
      "source": [
        "## Задание 2\n",
        "\n",
        "### Напишите программу для проверки возраста пользователя\n",
        "\n",
        "**Образец работы программы:**\n",
        "\n",
        "```\n",
        "Введите возраст: 12\n",
        "Доступ запрещен\n",
        "Введите пароль: 21\n",
        "Доступ разрешен\n",
        "```\n",
        "Если возраст больше или равен 18, программа выводит \"Доступ разрешен\""
      ],
      "metadata": {
        "id": "JUJsTkMH4Gbi"
      }
    },
    {
      "cell_type": "code",
      "source": [
        "### ваш код здесь ###\n",
        "age = int(input('Введите возраст:'))\n",
        "if age >= 18:\n",
        "  print(f'Доступ разрешен')\n",
        "else:\n",
        "  print(f'Доступ запрещен')"
      ],
      "metadata": {
        "id": "aUr56W8b3-gg",
        "outputId": "0331ae51-59ba-404e-bc25-e930ec6ccddc",
        "colab": {
          "base_uri": "https://localhost:8080/"
        }
      },
      "execution_count": 5,
      "outputs": [
        {
          "output_type": "stream",
          "name": "stdout",
          "text": [
            "Введите возраст:32\n",
            "Доступ разрешен\n"
          ]
        }
      ]
    },
    {
      "cell_type": "markdown",
      "source": [
        "## Задание 3\n",
        "\n",
        "### Напишите программу для приветствия пользователя\n",
        "\n",
        "**Образец работы программы:**\n",
        "\n",
        "```\n",
        "Введите время: 12:30\n",
        "Добрый день!\n",
        "Введите время: 10:30\n",
        "Доброе утро!\n",
        "Введите время: 21:30\n",
        "Добрый вечер!\n",
        "Введите время: 01:30\n",
        "Доброй ночи!\n",
        "```\n",
        "**Алгоритм:**\n",
        "\n",
        "1. Программа принимает на вход строку\n",
        "2. Делим строку по знаку `:`, создаем новую переменную с результатом разделения\n",
        "3. Извлекаем первый элемент из созданной переменной\n",
        "3. Использует логические выражения, чтобы вывести одно из четырех приветствий"
      ],
      "metadata": {
        "id": "ty-_ARJv4hjz"
      }
    },
    {
      "cell_type": "code",
      "source": [
        "### ваш код здесь ###\n",
        "n = input('Введите время:')\n",
        "time_parts = n.split(':')\n",
        "time = int(time_parts[0])\n",
        "\n",
        "if 0 <= time < 6:\n",
        "  print(f'Доброй ночи!')\n",
        "elif 6 <= time < 12:\n",
        "  print(f'Доброе утро!')\n",
        "elif 12 <= time < 18:\n",
        "  print(f'Добрый день!')\n",
        "else:\n",
        "  print(f'Добрый вечер!')"
      ],
      "metadata": {
        "id": "076IfTcK42zK",
        "outputId": "b82a173c-074b-4953-a3ff-01cb80d0727c",
        "colab": {
          "base_uri": "https://localhost:8080/"
        }
      },
      "execution_count": 11,
      "outputs": [
        {
          "output_type": "stream",
          "name": "stdout",
          "text": [
            "Введите время:12:12\n",
            "Добрый день!\n"
          ]
        }
      ]
    },
    {
      "cell_type": "markdown",
      "source": [
        "## Задание 4\n",
        "\n",
        "### Целочисленный калькулятор\n",
        "\n",
        "**Образец работы программы:**\n",
        "\n",
        "```\n",
        "Введите выражение: 2 + 2\n",
        "4\n",
        "Введите выражение: 2 - 2\n",
        "0\n",
        "Введите выражение: 2 : 2\n",
        "1\n",
        "Введите время: 2 * 2\n",
        "4\n",
        "```\n",
        "**Алгоритм:**\n",
        "\n",
        "1. Программа принимает на вход строку\n",
        "2. Делим строку, создаем список из 3-х элементов\n",
        "3. Проверяем, что записано во втором элементе (помним, что нумерация начинается с 0!) с помощью условий\n",
        "4. Производим одно из четырех возможных действий с первым и последним элементом созданного списка"
      ],
      "metadata": {
        "id": "ibVDS0oG6Kab"
      }
    },
    {
      "cell_type": "code",
      "source": [
        "### ваш код здесь ###\n",
        "num1 = int(input(\"Введите первое число: \"))\n",
        "num2 = int(input(\"Введите второе число: \"))\n",
        "operation = input(\"Выберите операцию: \")\n",
        "\n",
        "if operation == \"+\":\n",
        "    result = num1 + num2\n",
        "elif operation == \"-\":\n",
        "    result = num1 - num2\n",
        "elif operation == \"*\":\n",
        "    result = num1 * num2\n",
        "elif operation == \"/\":\n",
        "    try:\n",
        "      result = num1 / num2\n",
        "    except ZeroDivisionError:\n",
        "      result = \"Деление на ноль запрещено\"\n",
        "else:\n",
        "    print(\"Неверная операция!\")\n",
        "\n",
        "print(result)"
      ],
      "metadata": {
        "id": "tgCjGl8G6zMp",
        "outputId": "ecfadb70-dd70-4a6f-834d-e71697586270",
        "colab": {
          "base_uri": "https://localhost:8080/"
        }
      },
      "execution_count": 58,
      "outputs": [
        {
          "output_type": "stream",
          "name": "stdout",
          "text": [
            "Введите первое число: 2\n",
            "Введите второе число: 0\n",
            "Выберите операцию: /\n",
            "Деление на ноль запрещено\n"
          ]
        }
      ]
    },
    {
      "cell_type": "markdown",
      "source": [
        "## Задание 5\n",
        "\n",
        "### Умный калькулятор\n",
        "\n",
        "**Образец работы программы:**\n",
        "\n",
        "```\n",
        "Введите выражение: 2 + 2\n",
        "4\n",
        "Введите выражение: 2 == 2\n",
        "True\n",
        "Введите выражение: 2 + 2.1\n",
        "4.1\n",
        "```\n",
        "Дополните калькулятор из задания 4:\n",
        "1. Замените операции с int операциями с float\n",
        "2. Научите калькулятор выполнять логические выражения, добавив новое условие\n",
        "3. Если результат вычисления - целое число (например, `4.0`), выводите целочисленный тип (`4`), иначе, выводите float"
      ],
      "metadata": {
        "id": "Byz1IibM7s8y"
      }
    },
    {
      "cell_type": "code",
      "source": [
        "### ваш код здесь ###\n",
        "num1 = float(input(\"Введите первое число: \"))\n",
        "num2 = float(input(\"Введите второе число: \"))\n",
        "operation = input(\"Выберите операцию: \")\n",
        "\n",
        "if operation == \"+\":\n",
        "    result = num1 + num2\n",
        "elif operation == \"-\":\n",
        "    result = num1 * num2\n",
        "elif operation == \"*\":\n",
        "    result = num1 * num2\n",
        "elif operation == \"/\":\n",
        "    try:\n",
        "      result = num1 / num2\n",
        "    except ZeroDivisionError:\n",
        "      result = \"Деление на ноль запрещено\"\n",
        "else:\n",
        "    print(\"Неверная операция!\")\n",
        "\n",
        "print(result)\n",
        "\n",
        "if num1 == num2:\n",
        "  print('True')\n",
        "else:\n",
        "  print('False')"
      ],
      "metadata": {
        "id": "z5cHM4Og7G9s",
        "outputId": "746d3ec4-8f7e-4c12-f846-f3938e85d40f",
        "colab": {
          "base_uri": "https://localhost:8080/"
        }
      },
      "execution_count": 61,
      "outputs": [
        {
          "output_type": "stream",
          "name": "stdout",
          "text": [
            "Введите первое число: 2.2\n",
            "Введите второе число: 2.2\n",
            "Выберите операцию: +\n",
            "4.4\n",
            "True\n"
          ]
        }
      ]
    },
    {
      "cell_type": "code",
      "source": [
        "num1 = float(input(\"Введите первое число: \"))\n",
        "num2 = float(input(\"Введите второе число: \"))\n",
        "operation = input(\"Выберите операцию: \")\n",
        "\n",
        "if operation == \"+\":\n",
        "    result = num1 + num2\n",
        "elif operation == \"-\":\n",
        "    result = num1 * num2\n",
        "elif operation == \"*\":\n",
        "    result = num1 * num2\n",
        "elif operation == \"/\":\n",
        "    try:\n",
        "      result = num1 / num2\n",
        "    except ZeroDivisionError:\n",
        "      result = \"Деление на ноль запрещено\"\n",
        "else:\n",
        "    print(\"Неверная операция!\")\n",
        "\n",
        "if isinstance(result, float) and result.is_integer():\n",
        "  print(int(result))\n",
        "else:\n",
        "  print(result)"
      ],
      "metadata": {
        "id": "THlKL93h8X7m",
        "outputId": "fbebc86a-d6bb-4bb5-c2e4-457619b677cd",
        "colab": {
          "base_uri": "https://localhost:8080/"
        }
      },
      "execution_count": 62,
      "outputs": [
        {
          "output_type": "stream",
          "name": "stdout",
          "text": [
            "Введите первое число: 2.8\n",
            "Введите второе число: 1.2\n",
            "Выберите операцию: +\n",
            "4\n"
          ]
        }
      ]
    },
    {
      "cell_type": "code",
      "source": [],
      "metadata": {
        "id": "o8zXUyeX8-G4"
      },
      "execution_count": null,
      "outputs": []
    },
    {
      "cell_type": "markdown",
      "source": [
        "# Блок 2: задачи на обработку данных"
      ],
      "metadata": {
        "id": "HkO1aD2F9Iss"
      }
    },
    {
      "cell_type": "markdown",
      "source": [
        "## Задание 6\n",
        "\n",
        "### Фильтрация данных\n",
        "\n",
        "**Образец результата работы программы:**\n",
        "\n",
        "```\n",
        "Laptop\n",
        "Smartphone\n",
        "Tablet\n",
        "```\n",
        "\n",
        "**Условия:**\n",
        "\n",
        "Дан список продуктов в магазине техники:\n",
        "\n",
        "`\"Laptop True\", \"Headphones False\", \"Smartphone True\", \"Tablet True\", \"Speaker False\"`\n",
        "\n",
        "Каждый элемент списка состоит из двух слов:\n",
        "\n",
        "1. тип продукта (`Laptop`)\n",
        "2. его наличие (`True`) или отсутствие (`False`) в магазине\n",
        "\n",
        "Допишите код ниже, чтобы вывести на экран продукты в наличии.\n",
        "\n",
        "Используйте условие: вторая часть элемента списка должна быть равна `True`."
      ],
      "metadata": {
        "id": "pmEBQyIh9Ist"
      }
    },
    {
      "cell_type": "code",
      "execution_count": 65,
      "metadata": {
        "id": "i5vvEmhZ9Isv",
        "outputId": "3172fd05-0f1e-41ac-ebb4-83442b993be6",
        "colab": {
          "base_uri": "https://localhost:8080/"
        }
      },
      "outputs": [
        {
          "output_type": "stream",
          "name": "stdout",
          "text": [
            "Laptop\n",
            "Smartphone\n",
            "Tablet\n"
          ]
        }
      ],
      "source": [
        "# Список продуктов\n",
        "products = [\"Laptop True\", \"Headphones False\", \"Smartphone True\", \"Tablet True\", \"Speaker False\"]\n",
        "\n",
        "# Начинаем перебирать список\n",
        "for product in products:\n",
        "  name, availability = product.split()\n",
        "  if availability == 'True':\n",
        "    print(name)"
      ]
    },
    {
      "cell_type": "markdown",
      "source": [
        "## Задание 7\n",
        "\n",
        "### Фильтрация по числу\n",
        "\n",
        "**Образец результата работы программы:**\n",
        "\n",
        "```\n",
        "Headphones\n",
        "Smartphone\n",
        "Tablet\n",
        "```\n",
        "\n",
        "**Условия:**\n",
        "\n",
        "Дан список продуктов в магазине техники:\n",
        "\n",
        "`\"Laptop 8\", \"Headphones 12\", \"Smartphone 41\", \"Tablet 10\", \"Speaker 6\"`\n",
        "\n",
        "Каждый элемент списка состоит из двух компонентов:\n",
        "\n",
        "1. тип продукта (`Laptop`)\n",
        "2. количество продуктов данного типа в магазине (`8`)\n",
        "\n",
        "Допишите код ниже, чтобы вывести на экран продукты, количество которых равно или больше 10.\n",
        "\n",
        "Используйте условие: вторая часть элемента списка должна быть равна или больше десяти."
      ],
      "metadata": {
        "id": "NdG5Y_Cg9Isv"
      }
    },
    {
      "cell_type": "code",
      "source": [
        "# Список продуктов\n",
        "num_products = [\"Laptop 8\", \"Headphones 12\", \"Smartphone 41\", \"Tablet 10\", \"Speaker 6\"]\n",
        "\n",
        "# Начинаем перебирать список\n",
        "for product in num_products:\n",
        "  name, quantity = product.split()\n",
        "  if int(quantity) >= 10:\n",
        "    print(name)"
      ],
      "metadata": {
        "id": "tpsi4s4l9Isw",
        "outputId": "22d730c5-aa21-4c14-babd-c4cad553bd04",
        "colab": {
          "base_uri": "https://localhost:8080/"
        }
      },
      "execution_count": 67,
      "outputs": [
        {
          "output_type": "stream",
          "name": "stdout",
          "text": [
            "Headphones\n",
            "Smartphone\n",
            "Tablet\n"
          ]
        }
      ]
    },
    {
      "cell_type": "markdown",
      "source": [
        "## Задание 8\n",
        "\n",
        "### Изменение списка\n",
        "\n",
        "**Образец результата работы программы:**\n",
        "\n",
        "```\n",
        "`\"Headphones 12\", \"Smartphone 41\", \"Tablet 10\", \"Desktop 16\"`\n",
        "```\n",
        "\n",
        "**Условия:**\n",
        "\n",
        "Дан список новых продуктов для поставки магазин техники:\n",
        "\n",
        "`\"Desktop 16\", \"Mouse 2\", \"Keyboard 4\"`\n",
        "\n",
        "Каждый элемент списка состоит из двух компонентов:\n",
        "\n",
        "1. тип продукта (`Desktop`)\n",
        "2. количество продуктов данного типа в магазине (`16`)\n",
        "\n",
        "Допишите код ниже, чтобы добавить в список `num_products` продукты, количество которых равно или больше 10.\n",
        "\n",
        "Используйте условие и функцию `append`."
      ],
      "metadata": {
        "id": "Tf1rQpab9Isx"
      }
    },
    {
      "cell_type": "code",
      "source": [
        "new_products = [\"Desktop 16\", \"Mouse 2\", \"Keyboard 4\"]\n",
        "num_products = []\n",
        "for product in new_products:\n",
        "  name, quantity = product.split()\n",
        "  if int(quantity) >= 10:\n",
        "    num_products.append(product)\n",
        "    print(num_products)"
      ],
      "metadata": {
        "id": "LSd3_vPw9Isx",
        "outputId": "ca8f97f2-6ece-43b0-dcf9-68da43f40125",
        "colab": {
          "base_uri": "https://localhost:8080/"
        }
      },
      "execution_count": 71,
      "outputs": [
        {
          "output_type": "stream",
          "name": "stdout",
          "text": [
            "['Desktop 16']\n"
          ]
        }
      ]
    },
    {
      "cell_type": "markdown",
      "source": [
        "Удалите из `num_products` элементы, количество которых меньше 10.\n",
        "\n",
        "Используйте `remove`. Когда мы используем `remove`, список меняется и в следующей итерации могут вознкнуть конфликты.\n",
        "\n",
        "    Пример:  \n",
        "      Итерация 1: удали третий элемент из списка [1, 2, 3]\n",
        "      Итерация 2: удали третий элемент из списка [1, 2] - ошибка!\n",
        "\n",
        "Поэтому мы создаем временную копию списка `num_products[:]`."
      ],
      "metadata": {
        "id": "FAIsp2TOB1_a"
      }
    },
    {
      "cell_type": "code",
      "source": [
        "for product in num_products[:]: # [:] создает копию списка, чтобы избежать конфликтов\n",
        "  name, quantity = product.split()\n",
        "  if int(quantity) < 10:\n",
        "    num_products.remove(product)\n",
        "    print(num_products)"
      ],
      "metadata": {
        "id": "Gt-6sSw9B-_f"
      },
      "execution_count": 72,
      "outputs": []
    },
    {
      "cell_type": "markdown",
      "source": [
        "## Задание 9\n",
        "\n",
        "### Фильтрация списка имен\n",
        "\n",
        "**Образец результата работы программы:**\n",
        "\n",
        "```\n",
        "a_k = \"Alex\", \"Chloe\", \"George\", \"Jordan\"\n",
        "l_z = \"Lauren\", \"Tom\"\n",
        "```\n",
        "\n",
        "**Условия:**\n",
        "\n",
        "Дан список имен:\n",
        "\n",
        "`[\"Tom\", \"Chloe\", \"Alex\", \"George\", \"Lauren\", \"Jordan\"]`\n",
        "\n",
        "Создайте два списка и отсортируйте их в алфавитном порядке:\n",
        "\n",
        "1. `a_k`: список имен, начинающихся с букв в диапазоне от `A` до `K` (буквы чувствительны к регистру и ранжируются [как числа] от A до Z и далее от a до z)\n",
        "2. `l_z`: список от `L` до `Z`"
      ],
      "metadata": {
        "id": "JPbwkam09Isx"
      }
    },
    {
      "cell_type": "code",
      "source": [
        "names = [\"Tom\", \"Chloe\", \"Alex\", \"George\", \"Lauren\", \"Jordan\"]\n",
        "\n",
        "# Создайте 2 пустых списка a_k и l_z\n",
        "### ваш код здесь ###\n",
        "a_k = []\n",
        "l_z = []\n",
        "\n",
        "for name in names:\n",
        "  if 'A' <= name[0] <= 'K':\n",
        "    a_k.append(name)\n",
        "  elif 'L' <= name[0] <= 'Z':\n",
        "    l_z.append(name)\n",
        "\n",
        "a_k = sorted(a_k)\n",
        "l_z = sorted(l_z)\n",
        "\n",
        "print(\"Список имен от A до K:\", a_k)\n",
        "print(\"Список имен от L до Z:\", l_z)\n",
        "\n",
        "# Используйте sorted, чтобы перезаписать в оба списка отсортированные по алфавиту данные\n",
        "### ваш код здесь ###"
      ],
      "metadata": {
        "id": "BPzG9mme9Isx",
        "outputId": "406faf21-04c7-4f09-8979-eb91751da6e3",
        "colab": {
          "base_uri": "https://localhost:8080/"
        }
      },
      "execution_count": 77,
      "outputs": [
        {
          "output_type": "stream",
          "name": "stdout",
          "text": [
            "Список имен от A до K: ['Alex', 'Chloe', 'George', 'Jordan']\n",
            "Список имен от L до Z: ['Lauren', 'Tom']\n"
          ]
        }
      ]
    },
    {
      "cell_type": "markdown",
      "source": [
        "## Задание 10\n",
        "\n",
        "### Фильтрация типов\n",
        "\n",
        "**Образец результата работы программы:**\n",
        "\n",
        "```\n",
        "nums = [1, 3, 4]\n",
        "names = [\"apple\", \"banana\", \"kiwi\"]\n",
        "floats = [2.5, 7.6]\n",
        "bools = [True, True, False]\n",
        "```\n",
        "\n",
        "**Условия:**\n",
        "\n",
        "Дан список данных разных типов:\n",
        "\n",
        "`3, 1, \"kiwi\", 7.6, False, True, \"apple\", 2.5, \"banana\", True, 4`\n",
        "\n",
        "Используйте выражение `if isinstance(element, type)`, где `type` - питоновский тип (`int`, `str`...), чтобы создать списки, содержащие элементы одного типа.\n",
        "\n",
        "Отсортируйте списки с помощью `sorted`."
      ],
      "metadata": {
        "id": "_GVE8_lb9Isx"
      }
    },
    {
      "cell_type": "code",
      "source": [
        "mixed_list = [3, 1, \"kiwi\", 7.6, False, True, \"apple\", 2.5, \"banana\", True, 4]\n",
        "\n",
        "# Создайте пустые списки\n",
        "### ваш код здесь ###\n",
        "nums = []\n",
        "names = []\n",
        "floats = []\n",
        "bools = []\n",
        "\n",
        "for element in mixed_list:\n",
        "  if isinstance(element, int):\n",
        "    nums.append(element)\n",
        "  elif isinstance(element, float):\n",
        "    floats.append(element)\n",
        "  elif isinstance(element, str):\n",
        "    names.append(element)\n",
        "  elif isinstance(element, bool):\n",
        "    bools.append(element)\n",
        "\n",
        "nums = sorted(nums)\n",
        "names = sorted(names)\n",
        "floats = sorted(floats)\n",
        "bools = sorted(bools)\n",
        "print(f'Nums: {nums} \\nNames: {names}, \\nFloats: {floats}, \\nBools: {bools}')\n",
        "# Отсортируйте списки\n",
        "### ваш код здесь ###"
      ],
      "metadata": {
        "id": "wI_V15MM9Isy",
        "outputId": "7f4fcd05-b580-4c75-8e1a-c7185fb03b87",
        "colab": {
          "base_uri": "https://localhost:8080/"
        }
      },
      "execution_count": 81,
      "outputs": [
        {
          "output_type": "stream",
          "name": "stdout",
          "text": [
            "Nums: [False, 1, True, True, 3, 4] \n",
            "Names: ['apple', 'banana', 'kiwi'], \n",
            "Floats: [2.5, 7.6], \n",
            "Bools: []\n"
          ]
        }
      ]
    }
  ]
}